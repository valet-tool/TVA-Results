{
 "cells": [
  {
   "cell_type": "code",
   "execution_count": 1,
   "metadata": {},
   "outputs": [],
   "source": [
    "import pandas as pd\n",
    "import numpy as np\n",
    "from sklearn import preprocessing\n",
    "\n",
    "# data1 = pd.read_csv(\"normalized_tva_server_1_tactic_1_validation.csv\",parse_dates= ['Timestamp'])\n",
    "# data2 = pd.read_csv(\"normalized_tva_server_1_tactic_1_train.csv\",parse_dates= ['Timestamp'])\n",
    "data1 = pd.read_csv(\"normalized_tva_server_2_tactic_1_test.csv\",parse_dates= ['timestamp'])\n",
    "data2 = pd.read_csv(\"normalized_tva_server_2_tactic_1_train.csv\",parse_dates= ['timestamp'])\n",
    "data3 = pd.read_csv(\"normalized_tva_server_2_tactic_1_validation.csv\",parse_dates= ['timestamp'])\n",
    "data4 = pd.read_csv(\"normalized_tva_server_3_tactic_1_test.csv\",parse_dates= ['timestamp'])\n",
    "data5 = pd.read_csv(\"normalized_tva_server_3_tactic_1_train.csv\",parse_dates= ['timestamp'])\n",
    "data6 = pd.read_csv(\"normalized_tva_server_3_tactic_1_validation.csv\",parse_dates= ['timestamp'])\n",
    "\n",
    "# data1['Timestamp'] = pd.to_datetime(data1['Timestamp'])\n",
    "# data2['Timestamp'] = pd.to_datetime(data2['Timestamp'])\n",
    "\n",
    "data1['timestamp'] = pd.to_datetime(data1['timestamp'])\n",
    "data2['timestamp'] = pd.to_datetime(data2['timestamp'])\n",
    "data3['timestamp'] = pd.to_datetime(data3['timestamp'])\n",
    "data4['timestamp'] = pd.to_datetime(data4['timestamp'])\n",
    "data5['timestamp'] = pd.to_datetime(data5['timestamp'])\n",
    "data6['timestamp'] = pd.to_datetime(data6['timestamp'])\n"
   ]
  },
  {
   "cell_type": "code",
   "execution_count": 2,
   "metadata": {},
   "outputs": [
    {
     "data": {
      "text/html": [
       "<div>\n",
       "<style scoped>\n",
       "    .dataframe tbody tr th:only-of-type {\n",
       "        vertical-align: middle;\n",
       "    }\n",
       "\n",
       "    .dataframe tbody tr th {\n",
       "        vertical-align: top;\n",
       "    }\n",
       "\n",
       "    .dataframe thead th {\n",
       "        text-align: right;\n",
       "    }\n",
       "</style>\n",
       "<table border=\"1\" class=\"dataframe\">\n",
       "  <thead>\n",
       "    <tr style=\"text-align: right;\">\n",
       "      <th></th>\n",
       "      <th>timestamp</th>\n",
       "      <th>time_since_last_recording</th>\n",
       "      <th>latency</th>\n",
       "      <th>cost</th>\n",
       "      <th>reliability</th>\n",
       "      <th>ping_timestamp</th>\n",
       "      <th>time_since_last_ping</th>\n",
       "      <th>ping_success</th>\n",
       "      <th>ping_time</th>\n",
       "    </tr>\n",
       "  </thead>\n",
       "  <tbody>\n",
       "    <tr>\n",
       "      <th>0</th>\n",
       "      <td>2020-04-17 05:31:49.000900</td>\n",
       "      <td>0.002007</td>\n",
       "      <td>0.017706</td>\n",
       "      <td>0.132812</td>\n",
       "      <td>1</td>\n",
       "      <td>2020-04-17 05:29:40.000915</td>\n",
       "      <td>0.008699</td>\n",
       "      <td>1</td>\n",
       "      <td>0.380221</td>\n",
       "    </tr>\n",
       "    <tr>\n",
       "      <th>1</th>\n",
       "      <td>2020-04-17 05:33:12.000581</td>\n",
       "      <td>0.005486</td>\n",
       "      <td>0.018015</td>\n",
       "      <td>0.121094</td>\n",
       "      <td>1</td>\n",
       "      <td>2020-04-17 05:29:40.000915</td>\n",
       "      <td>0.014340</td>\n",
       "      <td>1</td>\n",
       "      <td>0.380221</td>\n",
       "    </tr>\n",
       "    <tr>\n",
       "      <th>2</th>\n",
       "      <td>2020-04-17 05:36:43.000981</td>\n",
       "      <td>0.014117</td>\n",
       "      <td>0.017720</td>\n",
       "      <td>0.089844</td>\n",
       "      <td>1</td>\n",
       "      <td>2020-04-17 05:35:10.000990</td>\n",
       "      <td>0.006253</td>\n",
       "      <td>1</td>\n",
       "      <td>0.379856</td>\n",
       "    </tr>\n",
       "    <tr>\n",
       "      <th>3</th>\n",
       "      <td>2020-04-17 05:38:58.000199</td>\n",
       "      <td>0.008965</td>\n",
       "      <td>0.017717</td>\n",
       "      <td>0.093750</td>\n",
       "      <td>1</td>\n",
       "      <td>2020-04-17 05:38:24.000739</td>\n",
       "      <td>0.002243</td>\n",
       "      <td>1</td>\n",
       "      <td>0.379733</td>\n",
       "    </tr>\n",
       "    <tr>\n",
       "      <th>4</th>\n",
       "      <td>2020-04-17 05:41:25.000957</td>\n",
       "      <td>0.009835</td>\n",
       "      <td>0.017942</td>\n",
       "      <td>0.101562</td>\n",
       "      <td>1</td>\n",
       "      <td>2020-04-17 05:40:18.000300</td>\n",
       "      <td>0.004553</td>\n",
       "      <td>1</td>\n",
       "      <td>0.379812</td>\n",
       "    </tr>\n",
       "  </tbody>\n",
       "</table>\n",
       "</div>"
      ],
      "text/plain": [
       "                   timestamp  time_since_last_recording   latency      cost  \\\n",
       "0 2020-04-17 05:31:49.000900                   0.002007  0.017706  0.132812   \n",
       "1 2020-04-17 05:33:12.000581                   0.005486  0.018015  0.121094   \n",
       "2 2020-04-17 05:36:43.000981                   0.014117  0.017720  0.089844   \n",
       "3 2020-04-17 05:38:58.000199                   0.008965  0.017717  0.093750   \n",
       "4 2020-04-17 05:41:25.000957                   0.009835  0.017942  0.101562   \n",
       "\n",
       "   reliability              ping_timestamp  time_since_last_ping  \\\n",
       "0            1  2020-04-17 05:29:40.000915              0.008699   \n",
       "1            1  2020-04-17 05:29:40.000915              0.014340   \n",
       "2            1  2020-04-17 05:35:10.000990              0.006253   \n",
       "3            1  2020-04-17 05:38:24.000739              0.002243   \n",
       "4            1  2020-04-17 05:40:18.000300              0.004553   \n",
       "\n",
       "   ping_success  ping_time  \n",
       "0             1   0.380221  \n",
       "1             1   0.380221  \n",
       "2             1   0.379856  \n",
       "3             1   0.379733  \n",
       "4             1   0.379812  "
      ]
     },
     "execution_count": 2,
     "metadata": {},
     "output_type": "execute_result"
    }
   ],
   "source": [
    "# data1.head()\n",
    "\n",
    "data1.head()\n",
    "\n"
   ]
  },
  {
   "cell_type": "code",
   "execution_count": null,
   "metadata": {},
   "outputs": [],
   "source": [
    "# data2.head()"
   ]
  },
  {
   "cell_type": "code",
   "execution_count": null,
   "metadata": {},
   "outputs": [],
   "source": [
    "# data=data.drop(data.columns[0], axis=1)"
   ]
  },
  {
   "cell_type": "code",
   "execution_count": null,
   "metadata": {},
   "outputs": [],
   "source": [
    "# data=data.drop(data.columns[6], axis=1)"
   ]
  },
  {
   "cell_type": "code",
   "execution_count": null,
   "metadata": {},
   "outputs": [],
   "source": [
    "# data.head()\n"
   ]
  },
  {
   "cell_type": "code",
   "execution_count": null,
   "metadata": {},
   "outputs": [],
   "source": [
    "# data['TotalCost'] = data['Latency'] * data['Cost']"
   ]
  },
  {
   "cell_type": "code",
   "execution_count": null,
   "metadata": {},
   "outputs": [],
   "source": [
    "# data.head()"
   ]
  },
  {
   "cell_type": "code",
   "execution_count": null,
   "metadata": {},
   "outputs": [],
   "source": [
    "# doW1 = data1['timestamp'].dt.day_name()\n",
    "doW2 = data2['timestamp'].dt.day_name()\n",
    "# doW3 = data3['timestamp'].dt.day_name()\n",
    "# doW4 = data4['timestamp'].dt.day_name()\n",
    "doW5 = data5['timestamp'].dt.day_name()\n",
    "doW6 = data6['timestamp'].dt.day_name()"
   ]
  },
  {
   "cell_type": "code",
   "execution_count": 3,
   "metadata": {},
   "outputs": [],
   "source": [
    "hh1 = data1['timestamp'].dt.hour\n",
    "hh2 = data2['timestamp'].dt.hour\n",
    "hh3 = data3['timestamp'].dt.hour\n",
    "hh4 = data4['timestamp'].dt.hour\n",
    "hh5 = data5['timestamp'].dt.hour\n",
    "hh6 = data6['timestamp'].dt.hour\n"
   ]
  },
  {
   "cell_type": "code",
   "execution_count": 4,
   "metadata": {},
   "outputs": [],
   "source": [
    "# mm1 = data1['Timestamp'].dt.minute\n",
    "# mm2 = data2['Timestamp'].dt.minute\n",
    "\n",
    "mm1 = data1['timestamp'].dt.minute\n",
    "mm2 = data2['timestamp'].dt.minute\n",
    "mm3 = data3['timestamp'].dt.minute\n",
    "mm4 = data4['timestamp'].dt.minute\n",
    "mm5 = data5['timestamp'].dt.minute\n",
    "mm6 = data6['timestamp'].dt.minute\n"
   ]
  },
  {
   "cell_type": "code",
   "execution_count": 5,
   "metadata": {},
   "outputs": [],
   "source": [
    "# ss1 = (data1['Timestamp'].dt.second.astype(str)+\".\"+data1['Timestamp'].dt.microsecond.astype(str)).astype(float)\n",
    "# ss2 = (data2['Timestamp'].dt.second.astype(str)+\".\"+data2['Timestamp'].dt.microsecond.astype(str)).astype(float)\n",
    "ss1 = (data1['timestamp'].dt.second.astype(str)+\".\"+data1['timestamp'].dt.microsecond.astype(str)).astype(float)\n",
    "ss2 = (data2['timestamp'].dt.second.astype(str)+\".\"+data2['timestamp'].dt.microsecond.astype(str)).astype(float)\n",
    "ss3 = (data3['timestamp'].dt.second.astype(str)+\".\"+data3['timestamp'].dt.microsecond.astype(str)).astype(float)\n",
    "ss4 = (data4['timestamp'].dt.second.astype(str)+\".\"+data4['timestamp'].dt.microsecond.astype(str)).astype(float)\n",
    "ss5 = (data5['timestamp'].dt.second.astype(str)+\".\"+data5['timestamp'].dt.microsecond.astype(str)).astype(float)\n",
    "ss6 = (data6['timestamp'].dt.second.astype(str)+\".\"+data6['timestamp'].dt.microsecond.astype(str)).astype(float)\n",
    "\n",
    "\n",
    "\n"
   ]
  },
  {
   "cell_type": "code",
   "execution_count": 6,
   "metadata": {},
   "outputs": [],
   "source": [
    "# dataTimeCols1 = pd.concat([doW1,hh1,mm1,ss1],axis = 1,keys=['doW','Hours','Minutes','Seconds'])\n",
    "# dataTimeCols2 = pd.concat([doW2,hh2,mm2,ss2],axis = 1,keys=['doW','Hours','Minutes','Seconds'])\n",
    "\n",
    "\n",
    "dataTimeCols1 = pd.concat([hh1,mm1,ss1],axis = 1,keys=['Hours','Minutes','Seconds'])\n",
    "dataTimeCols2 = pd.concat([hh2,mm2,ss2],axis = 1,keys=['Hours','Minutes','Seconds'])\n",
    "dataTimeCols3 = pd.concat([hh3,mm3,ss3],axis = 1,keys=['Hours','Minutes','Seconds'])\n",
    "dataTimeCols4 = pd.concat([hh4,mm4,ss4],axis = 1,keys=['Hours','Minutes','Seconds'])\n",
    "dataTimeCols5 = pd.concat([hh5,mm5,ss5],axis = 1,keys=['Hours','Minutes','Seconds'])\n",
    "dataTimeCols6 = pd.concat([hh6,mm6,ss6],axis = 1,keys=['Hours','Minutes','Seconds'])\n"
   ]
  },
  {
   "cell_type": "code",
   "execution_count": 7,
   "metadata": {},
   "outputs": [],
   "source": [
    "# data1 = pd.concat([pd.DataFrame([0]*data1.shape[0]), dataTimeCols1, data1.iloc[:,1:], pd.DataFrame([0]*data1.shape[0])],axis = 1)\n",
    "# data2 = pd.concat([pd.DataFrame([0]*data2.shape[0]), dataTimeCols2, data2.iloc[:,1:], pd.DataFrame([0]*data2.shape[0])],axis = 1)\n",
    "\n",
    "data1 = pd.concat([pd.DataFrame([0]*data1.shape[0]), dataTimeCols1, data1.iloc[:,1:], pd.DataFrame([0]*data1.shape[0])],axis = 1)\n",
    "\n",
    "data2 = pd.concat([pd.DataFrame([0]*data2.shape[0]), dataTimeCols2, data2.iloc[:,1:], pd.DataFrame([0]*data2.shape[0])],axis = 1)\n",
    "\n",
    "data3 = pd.concat([pd.DataFrame([0]*data3.shape[0]), dataTimeCols3, data3.iloc[:,1:], pd.DataFrame([0]*data3.shape[0])],axis = 1)\n",
    "\n",
    "\n",
    "data4 = pd.concat([pd.DataFrame([0]*data4.shape[0]), dataTimeCols4, data4.iloc[:,1:], pd.DataFrame([0]*data4.shape[0])],axis = 1)\n",
    "\n",
    "\n",
    "data5 = pd.concat([pd.DataFrame([0]*data5.shape[0]), dataTimeCols5, data5.iloc[:,1:], pd.DataFrame([0]*data5.shape[0])],axis = 1)\n",
    "\n",
    "\n",
    "data6 = pd.concat([pd.DataFrame([0]*data6.shape[0]), dataTimeCols6, data6.iloc[:,1:], pd.DataFrame([0]*data6.shape[0])],axis = 1)\n",
    "\n",
    "\n",
    "\n"
   ]
  },
  {
   "cell_type": "code",
   "execution_count": 8,
   "metadata": {},
   "outputs": [
    {
     "data": {
      "text/html": [
       "<div>\n",
       "<style scoped>\n",
       "    .dataframe tbody tr th:only-of-type {\n",
       "        vertical-align: middle;\n",
       "    }\n",
       "\n",
       "    .dataframe tbody tr th {\n",
       "        vertical-align: top;\n",
       "    }\n",
       "\n",
       "    .dataframe thead th {\n",
       "        text-align: right;\n",
       "    }\n",
       "</style>\n",
       "<table border=\"1\" class=\"dataframe\">\n",
       "  <thead>\n",
       "    <tr style=\"text-align: right;\">\n",
       "      <th></th>\n",
       "      <th>0</th>\n",
       "      <th>Hours</th>\n",
       "      <th>Minutes</th>\n",
       "      <th>Seconds</th>\n",
       "      <th>time_since_last_recording</th>\n",
       "      <th>latency</th>\n",
       "      <th>cost</th>\n",
       "      <th>reliability</th>\n",
       "      <th>ping_timestamp</th>\n",
       "      <th>time_since_last_ping</th>\n",
       "      <th>ping_success</th>\n",
       "      <th>ping_time</th>\n",
       "      <th>0</th>\n",
       "    </tr>\n",
       "  </thead>\n",
       "  <tbody>\n",
       "    <tr>\n",
       "      <th>0</th>\n",
       "      <td>0</td>\n",
       "      <td>6</td>\n",
       "      <td>4</td>\n",
       "      <td>25.520</td>\n",
       "      <td>0.001806</td>\n",
       "      <td>0.018192</td>\n",
       "      <td>0.134766</td>\n",
       "      <td>1</td>\n",
       "      <td>2020-04-19 06:04:10.000245</td>\n",
       "      <td>0.000951</td>\n",
       "      <td>1</td>\n",
       "      <td>0.380247</td>\n",
       "      <td>0</td>\n",
       "    </tr>\n",
       "    <tr>\n",
       "      <th>1</th>\n",
       "      <td>0</td>\n",
       "      <td>6</td>\n",
       "      <td>4</td>\n",
       "      <td>38.670</td>\n",
       "      <td>0.000870</td>\n",
       "      <td>0.017934</td>\n",
       "      <td>0.089844</td>\n",
       "      <td>1</td>\n",
       "      <td>2020-04-19 06:04:10.000245</td>\n",
       "      <td>0.001903</td>\n",
       "      <td>1</td>\n",
       "      <td>0.380247</td>\n",
       "      <td>0</td>\n",
       "    </tr>\n",
       "    <tr>\n",
       "      <th>2</th>\n",
       "      <td>0</td>\n",
       "      <td>6</td>\n",
       "      <td>6</td>\n",
       "      <td>51.262</td>\n",
       "      <td>0.008831</td>\n",
       "      <td>0.017704</td>\n",
       "      <td>0.097656</td>\n",
       "      <td>1</td>\n",
       "      <td>2020-04-19 06:05:06.000142</td>\n",
       "      <td>0.007136</td>\n",
       "      <td>1</td>\n",
       "      <td>0.379931</td>\n",
       "      <td>0</td>\n",
       "    </tr>\n",
       "    <tr>\n",
       "      <th>3</th>\n",
       "      <td>0</td>\n",
       "      <td>6</td>\n",
       "      <td>7</td>\n",
       "      <td>58.262</td>\n",
       "      <td>0.004483</td>\n",
       "      <td>0.017974</td>\n",
       "      <td>0.091797</td>\n",
       "      <td>1</td>\n",
       "      <td>2020-04-19 06:06:52.000241</td>\n",
       "      <td>0.004486</td>\n",
       "      <td>1</td>\n",
       "      <td>0.379940</td>\n",
       "      <td>0</td>\n",
       "    </tr>\n",
       "    <tr>\n",
       "      <th>4</th>\n",
       "      <td>0</td>\n",
       "      <td>6</td>\n",
       "      <td>10</td>\n",
       "      <td>1.166</td>\n",
       "      <td>0.008162</td>\n",
       "      <td>0.017945</td>\n",
       "      <td>0.091797</td>\n",
       "      <td>1</td>\n",
       "      <td>2020-04-19 06:09:45.000956</td>\n",
       "      <td>0.001019</td>\n",
       "      <td>1</td>\n",
       "      <td>0.379786</td>\n",
       "      <td>0</td>\n",
       "    </tr>\n",
       "  </tbody>\n",
       "</table>\n",
       "</div>"
      ],
      "text/plain": [
       "   0  Hours  Minutes  Seconds  time_since_last_recording   latency      cost  \\\n",
       "0  0      6        4   25.520                   0.001806  0.018192  0.134766   \n",
       "1  0      6        4   38.670                   0.000870  0.017934  0.089844   \n",
       "2  0      6        6   51.262                   0.008831  0.017704  0.097656   \n",
       "3  0      6        7   58.262                   0.004483  0.017974  0.091797   \n",
       "4  0      6       10    1.166                   0.008162  0.017945  0.091797   \n",
       "\n",
       "   reliability              ping_timestamp  time_since_last_ping  \\\n",
       "0            1  2020-04-19 06:04:10.000245              0.000951   \n",
       "1            1  2020-04-19 06:04:10.000245              0.001903   \n",
       "2            1  2020-04-19 06:05:06.000142              0.007136   \n",
       "3            1  2020-04-19 06:06:52.000241              0.004486   \n",
       "4            1  2020-04-19 06:09:45.000956              0.001019   \n",
       "\n",
       "   ping_success  ping_time  0  \n",
       "0             1   0.380247  0  \n",
       "1             1   0.380247  0  \n",
       "2             1   0.379931  0  \n",
       "3             1   0.379940  0  \n",
       "4             1   0.379786  0  "
      ]
     },
     "execution_count": 8,
     "metadata": {},
     "output_type": "execute_result"
    }
   ],
   "source": [
    "# data1.head()\n",
    "\n",
    "data3.head()"
   ]
  },
  {
   "cell_type": "code",
   "execution_count": null,
   "metadata": {},
   "outputs": [],
   "source": [
    "# data2.head()"
   ]
  },
  {
   "cell_type": "code",
   "execution_count": 9,
   "metadata": {},
   "outputs": [],
   "source": [
    "data1=data1.drop(data1.columns[0], axis=1)\n",
    "data2=data2.drop(data2.columns[0], axis=1)\n",
    "data3=data3.drop(data3.columns[0], axis=1)\n",
    "data4=data4.drop(data4.columns[0], axis=1)\n",
    "data5=data5.drop(data5.columns[0], axis=1)\n",
    "data6=data6.drop(data6.columns[0], axis=1)"
   ]
  },
  {
   "cell_type": "code",
   "execution_count": 10,
   "metadata": {},
   "outputs": [
    {
     "data": {
      "text/html": [
       "<div>\n",
       "<style scoped>\n",
       "    .dataframe tbody tr th:only-of-type {\n",
       "        vertical-align: middle;\n",
       "    }\n",
       "\n",
       "    .dataframe tbody tr th {\n",
       "        vertical-align: top;\n",
       "    }\n",
       "\n",
       "    .dataframe thead th {\n",
       "        text-align: right;\n",
       "    }\n",
       "</style>\n",
       "<table border=\"1\" class=\"dataframe\">\n",
       "  <thead>\n",
       "    <tr style=\"text-align: right;\">\n",
       "      <th></th>\n",
       "      <th>Hours</th>\n",
       "      <th>Minutes</th>\n",
       "      <th>Seconds</th>\n",
       "      <th>time_since_last_recording</th>\n",
       "      <th>latency</th>\n",
       "      <th>cost</th>\n",
       "      <th>reliability</th>\n",
       "      <th>ping_timestamp</th>\n",
       "      <th>time_since_last_ping</th>\n",
       "      <th>ping_success</th>\n",
       "      <th>ping_time</th>\n",
       "    </tr>\n",
       "  </thead>\n",
       "  <tbody>\n",
       "    <tr>\n",
       "      <th>0</th>\n",
       "      <td>6</td>\n",
       "      <td>4</td>\n",
       "      <td>25.520</td>\n",
       "      <td>0.001806</td>\n",
       "      <td>0.018192</td>\n",
       "      <td>0.134766</td>\n",
       "      <td>1</td>\n",
       "      <td>2020-04-19 06:04:10.000245</td>\n",
       "      <td>0.000951</td>\n",
       "      <td>1</td>\n",
       "      <td>0.380247</td>\n",
       "    </tr>\n",
       "    <tr>\n",
       "      <th>1</th>\n",
       "      <td>6</td>\n",
       "      <td>4</td>\n",
       "      <td>38.670</td>\n",
       "      <td>0.000870</td>\n",
       "      <td>0.017934</td>\n",
       "      <td>0.089844</td>\n",
       "      <td>1</td>\n",
       "      <td>2020-04-19 06:04:10.000245</td>\n",
       "      <td>0.001903</td>\n",
       "      <td>1</td>\n",
       "      <td>0.380247</td>\n",
       "    </tr>\n",
       "    <tr>\n",
       "      <th>2</th>\n",
       "      <td>6</td>\n",
       "      <td>6</td>\n",
       "      <td>51.262</td>\n",
       "      <td>0.008831</td>\n",
       "      <td>0.017704</td>\n",
       "      <td>0.097656</td>\n",
       "      <td>1</td>\n",
       "      <td>2020-04-19 06:05:06.000142</td>\n",
       "      <td>0.007136</td>\n",
       "      <td>1</td>\n",
       "      <td>0.379931</td>\n",
       "    </tr>\n",
       "    <tr>\n",
       "      <th>3</th>\n",
       "      <td>6</td>\n",
       "      <td>7</td>\n",
       "      <td>58.262</td>\n",
       "      <td>0.004483</td>\n",
       "      <td>0.017974</td>\n",
       "      <td>0.091797</td>\n",
       "      <td>1</td>\n",
       "      <td>2020-04-19 06:06:52.000241</td>\n",
       "      <td>0.004486</td>\n",
       "      <td>1</td>\n",
       "      <td>0.379940</td>\n",
       "    </tr>\n",
       "    <tr>\n",
       "      <th>4</th>\n",
       "      <td>6</td>\n",
       "      <td>10</td>\n",
       "      <td>1.166</td>\n",
       "      <td>0.008162</td>\n",
       "      <td>0.017945</td>\n",
       "      <td>0.091797</td>\n",
       "      <td>1</td>\n",
       "      <td>2020-04-19 06:09:45.000956</td>\n",
       "      <td>0.001019</td>\n",
       "      <td>1</td>\n",
       "      <td>0.379786</td>\n",
       "    </tr>\n",
       "  </tbody>\n",
       "</table>\n",
       "</div>"
      ],
      "text/plain": [
       "   Hours  Minutes  Seconds  time_since_last_recording   latency      cost  \\\n",
       "0      6        4   25.520                   0.001806  0.018192  0.134766   \n",
       "1      6        4   38.670                   0.000870  0.017934  0.089844   \n",
       "2      6        6   51.262                   0.008831  0.017704  0.097656   \n",
       "3      6        7   58.262                   0.004483  0.017974  0.091797   \n",
       "4      6       10    1.166                   0.008162  0.017945  0.091797   \n",
       "\n",
       "   reliability              ping_timestamp  time_since_last_ping  \\\n",
       "0            1  2020-04-19 06:04:10.000245              0.000951   \n",
       "1            1  2020-04-19 06:04:10.000245              0.001903   \n",
       "2            1  2020-04-19 06:05:06.000142              0.007136   \n",
       "3            1  2020-04-19 06:06:52.000241              0.004486   \n",
       "4            1  2020-04-19 06:09:45.000956              0.001019   \n",
       "\n",
       "   ping_success  ping_time  \n",
       "0             1   0.380247  \n",
       "1             1   0.380247  \n",
       "2             1   0.379931  \n",
       "3             1   0.379940  \n",
       "4             1   0.379786  "
      ]
     },
     "execution_count": 10,
     "metadata": {},
     "output_type": "execute_result"
    }
   ],
   "source": [
    "data3.head()"
   ]
  },
  {
   "cell_type": "code",
   "execution_count": null,
   "metadata": {},
   "outputs": [],
   "source": [
    "# data2=data2.drop(data2.columns[0], axis=1)"
   ]
  },
  {
   "cell_type": "code",
   "execution_count": null,
   "metadata": {},
   "outputs": [],
   "source": [
    "# data2.head()"
   ]
  },
  {
   "cell_type": "code",
   "execution_count": null,
   "metadata": {},
   "outputs": [],
   "source": [
    "# one_hot1 = pd.get_dummies(data1['doW'])\n",
    "# one_hot2 = pd.get_dummies(data2['doW'])\n",
    "# one_hot2 = pd.get_dummies(data['Tactic'],prefix='Tactic_')\n",
    "# one_hot3 = pd.get_dummies(data['Server'],prefix='Server_')"
   ]
  },
  {
   "cell_type": "code",
   "execution_count": null,
   "metadata": {},
   "outputs": [],
   "source": [
    "# data1 = data1.drop('doW',axis = 1)\n",
    "# data1 = data1.join(one_hot1)\n",
    "\n",
    "# data2 = data2.drop('doW',axis = 1)\n",
    "# data2 = data2.join(one_hot2)\n"
   ]
  },
  {
   "cell_type": "code",
   "execution_count": null,
   "metadata": {},
   "outputs": [],
   "source": [
    "# data = data.drop('Tactic',axis = 1)\n",
    "# data = data.join(one_hot2)"
   ]
  },
  {
   "cell_type": "code",
   "execution_count": null,
   "metadata": {},
   "outputs": [],
   "source": [
    "# data = data.drop('Server',axis = 1)\n",
    "# data = data.join(one_hot3)"
   ]
  },
  {
   "cell_type": "code",
   "execution_count": null,
   "metadata": {},
   "outputs": [],
   "source": [
    "# data=data.drop(data.columns[0], axis=1)"
   ]
  },
  {
   "cell_type": "code",
   "execution_count": null,
   "metadata": {},
   "outputs": [],
   "source": [
    "# data1.head()"
   ]
  },
  {
   "cell_type": "code",
   "execution_count": null,
   "metadata": {},
   "outputs": [],
   "source": [
    "# data2.head()"
   ]
  },
  {
   "cell_type": "code",
   "execution_count": 11,
   "metadata": {},
   "outputs": [],
   "source": [
    "from sklearn.preprocessing import MinMaxScaler\n",
    "\n",
    "scaler = MinMaxScaler()\n",
    "\n",
    "data1[['Hours','Minutes','Seconds']] = scaler.fit_transform(data1[['Hours','Minutes','Seconds']])\n",
    "\n",
    "data2[['Hours','Minutes','Seconds']] = scaler.fit_transform(data2[['Hours','Minutes','Seconds']])\n",
    "\n",
    "data3[['Hours','Minutes','Seconds']] = scaler.fit_transform(data3[['Hours','Minutes','Seconds']])\n",
    "\n",
    "data4[['Hours','Minutes','Seconds']] = scaler.fit_transform(data4[['Hours','Minutes','Seconds']])\n",
    "\n",
    "data5[['Hours','Minutes','Seconds']] = scaler.fit_transform(data5[['Hours','Minutes','Seconds']])\n",
    "\n",
    "data6[['Hours','Minutes','Seconds']] = scaler.fit_transform(data6[['Hours','Minutes','Seconds']])\n",
    "\n",
    "\n",
    "\n",
    "\n"
   ]
  },
  {
   "cell_type": "code",
   "execution_count": 12,
   "metadata": {},
   "outputs": [
    {
     "data": {
      "text/html": [
       "<div>\n",
       "<style scoped>\n",
       "    .dataframe tbody tr th:only-of-type {\n",
       "        vertical-align: middle;\n",
       "    }\n",
       "\n",
       "    .dataframe tbody tr th {\n",
       "        vertical-align: top;\n",
       "    }\n",
       "\n",
       "    .dataframe thead th {\n",
       "        text-align: right;\n",
       "    }\n",
       "</style>\n",
       "<table border=\"1\" class=\"dataframe\">\n",
       "  <thead>\n",
       "    <tr style=\"text-align: right;\">\n",
       "      <th></th>\n",
       "      <th>Hours</th>\n",
       "      <th>Minutes</th>\n",
       "      <th>Seconds</th>\n",
       "      <th>time_since_last_recording</th>\n",
       "      <th>latency</th>\n",
       "      <th>cost</th>\n",
       "      <th>reliability</th>\n",
       "      <th>ping_timestamp</th>\n",
       "      <th>time_since_last_ping</th>\n",
       "      <th>ping_success</th>\n",
       "      <th>ping_time</th>\n",
       "    </tr>\n",
       "  </thead>\n",
       "  <tbody>\n",
       "    <tr>\n",
       "      <th>0</th>\n",
       "      <td>0.217391</td>\n",
       "      <td>0.525424</td>\n",
       "      <td>0.831351</td>\n",
       "      <td>0.002007</td>\n",
       "      <td>0.017706</td>\n",
       "      <td>0.132812</td>\n",
       "      <td>1</td>\n",
       "      <td>2020-04-17 05:29:40.000915</td>\n",
       "      <td>0.008699</td>\n",
       "      <td>1</td>\n",
       "      <td>0.380221</td>\n",
       "    </tr>\n",
       "    <tr>\n",
       "      <th>1</th>\n",
       "      <td>0.217391</td>\n",
       "      <td>0.559322</td>\n",
       "      <td>0.208017</td>\n",
       "      <td>0.005486</td>\n",
       "      <td>0.018015</td>\n",
       "      <td>0.121094</td>\n",
       "      <td>1</td>\n",
       "      <td>2020-04-17 05:29:40.000915</td>\n",
       "      <td>0.014340</td>\n",
       "      <td>1</td>\n",
       "      <td>0.380221</td>\n",
       "    </tr>\n",
       "    <tr>\n",
       "      <th>2</th>\n",
       "      <td>0.217391</td>\n",
       "      <td>0.610169</td>\n",
       "      <td>0.732487</td>\n",
       "      <td>0.014117</td>\n",
       "      <td>0.017720</td>\n",
       "      <td>0.089844</td>\n",
       "      <td>1</td>\n",
       "      <td>2020-04-17 05:35:10.000990</td>\n",
       "      <td>0.006253</td>\n",
       "      <td>1</td>\n",
       "      <td>0.379856</td>\n",
       "    </tr>\n",
       "    <tr>\n",
       "      <th>3</th>\n",
       "      <td>0.217391</td>\n",
       "      <td>0.644068</td>\n",
       "      <td>0.969968</td>\n",
       "      <td>0.008965</td>\n",
       "      <td>0.017717</td>\n",
       "      <td>0.093750</td>\n",
       "      <td>1</td>\n",
       "      <td>2020-04-17 05:38:24.000739</td>\n",
       "      <td>0.002243</td>\n",
       "      <td>1</td>\n",
       "      <td>0.379733</td>\n",
       "    </tr>\n",
       "    <tr>\n",
       "      <th>4</th>\n",
       "      <td>0.217391</td>\n",
       "      <td>0.694915</td>\n",
       "      <td>0.431435</td>\n",
       "      <td>0.009835</td>\n",
       "      <td>0.017942</td>\n",
       "      <td>0.101562</td>\n",
       "      <td>1</td>\n",
       "      <td>2020-04-17 05:40:18.000300</td>\n",
       "      <td>0.004553</td>\n",
       "      <td>1</td>\n",
       "      <td>0.379812</td>\n",
       "    </tr>\n",
       "  </tbody>\n",
       "</table>\n",
       "</div>"
      ],
      "text/plain": [
       "      Hours   Minutes   Seconds  time_since_last_recording   latency  \\\n",
       "0  0.217391  0.525424  0.831351                   0.002007  0.017706   \n",
       "1  0.217391  0.559322  0.208017                   0.005486  0.018015   \n",
       "2  0.217391  0.610169  0.732487                   0.014117  0.017720   \n",
       "3  0.217391  0.644068  0.969968                   0.008965  0.017717   \n",
       "4  0.217391  0.694915  0.431435                   0.009835  0.017942   \n",
       "\n",
       "       cost  reliability              ping_timestamp  time_since_last_ping  \\\n",
       "0  0.132812            1  2020-04-17 05:29:40.000915              0.008699   \n",
       "1  0.121094            1  2020-04-17 05:29:40.000915              0.014340   \n",
       "2  0.089844            1  2020-04-17 05:35:10.000990              0.006253   \n",
       "3  0.093750            1  2020-04-17 05:38:24.000739              0.002243   \n",
       "4  0.101562            1  2020-04-17 05:40:18.000300              0.004553   \n",
       "\n",
       "   ping_success  ping_time  \n",
       "0             1   0.380221  \n",
       "1             1   0.380221  \n",
       "2             1   0.379856  \n",
       "3             1   0.379733  \n",
       "4             1   0.379812  "
      ]
     },
     "execution_count": 12,
     "metadata": {},
     "output_type": "execute_result"
    }
   ],
   "source": [
    "data1.head()"
   ]
  },
  {
   "cell_type": "code",
   "execution_count": null,
   "metadata": {},
   "outputs": [],
   "source": [
    "# data2.head()"
   ]
  },
  {
   "cell_type": "code",
   "execution_count": null,
   "metadata": {},
   "outputs": [],
   "source": [
    "# data.head()"
   ]
  },
  {
   "cell_type": "code",
   "execution_count": 13,
   "metadata": {},
   "outputs": [],
   "source": [
    "# data1 = pd.read_csv(\"normalized_tva_server_2_tactic_1_test.csv\",parse_dates= ['timestamp'])\n",
    "# data2 = pd.read_csv(\"normalized_tva_server_2_tactic_1_train.csv\",parse_dates= ['timestamp'])\n",
    "# data3 = pd.read_csv(\"normalized_tva_server_2_tactic_1_validation.csv\",parse_dates= ['timestamp'])\n",
    "# data4 = pd.read_csv(\"normalized_tva_server_3_tactic_1_test.csv\",parse_dates= ['timestamp'])\n",
    "# data5 = pd.read_csv(\"normalized_tva_server_3_tactic_1_train.csv\",parse_dates= ['timestamp'])\n",
    "# data6 = pd.read_csv(\"normalized_tva_server_3_tactic_1_validation.csv\",parse_dates= ['timestamp'])\n",
    "\n",
    "data1.to_csv(\"normalized_tva_server_2_tactic_1_test.csv\")\n",
    "data2.to_csv(\"normalized_tva_server_2_tactic_1_train.csv\")\n",
    "data3.to_csv(\"normalized_tva_server_2_tactic_1_validation.csv\")\n",
    "data4.to_csv(\"normalized_tva_server_3_tactic_1_test.csv\")\n",
    "data5.to_csv(\"normalized_tva_server_3_tactic_1_train.csv\")\n",
    "data6.to_csv(\"normalized_tva_server_3_tactic_1_validation.csv\")\n"
   ]
  },
  {
   "cell_type": "code",
   "execution_count": null,
   "metadata": {},
   "outputs": [],
   "source": [
    "import pandas as pd\n",
    "data = pd.read_csv(\"tva_output_new.csv\")\n"
   ]
  },
  {
   "cell_type": "code",
   "execution_count": null,
   "metadata": {},
   "outputs": [],
   "source": [
    "data.head()"
   ]
  },
  {
   "cell_type": "code",
   "execution_count": null,
   "metadata": {},
   "outputs": [],
   "source": [
    "data=data.drop(data.columns[0], axis=1)"
   ]
  },
  {
   "cell_type": "code",
   "execution_count": null,
   "metadata": {},
   "outputs": [],
   "source": [
    "data.head()"
   ]
  },
  {
   "cell_type": "code",
   "execution_count": null,
   "metadata": {},
   "outputs": [],
   "source": [
    "from sklearn.preprocessing import MinMaxScaler\n",
    "scaler = MinMaxScaler()\n",
    "data[['Hours','Minutes','Seconds','Latency','Cost','TotalCost']] = scaler.fit_transform(data[['Hours','Minutes','Seconds','Latency','Cost', 'TotalCost']])\n"
   ]
  },
  {
   "cell_type": "code",
   "execution_count": null,
   "metadata": {},
   "outputs": [],
   "source": [
    "data.head()"
   ]
  },
  {
   "cell_type": "code",
   "execution_count": null,
   "metadata": {},
   "outputs": [],
   "source": [
    "from sklearn.model_selection import train_test_split\n",
    "\n",
    "X=(data)\n",
    "X_train,X_test = train_test_split(X, test_size=0.2, shuffle=False)\n",
    "\n",
    "X_val_train,X_val_test = train_test_split(X_train, test_size=0.2,shuffle=False)\n"
   ]
  },
  {
   "cell_type": "code",
   "execution_count": null,
   "metadata": {},
   "outputs": [],
   "source": [
    "X_train.to_csv('X_train.csv')\n",
    "X_test.to_csv('X_test.csv')\n",
    "X_val_train.to_csv('X_val_train.csv')\n",
    "X_val_test.to_csv('X_val_test.csv')"
   ]
  },
  {
   "cell_type": "code",
   "execution_count": null,
   "metadata": {},
   "outputs": [],
   "source": []
  }
 ],
 "metadata": {
  "kernelspec": {
   "display_name": "Python 3",
   "language": "python",
   "name": "python3"
  },
  "language_info": {
   "codemirror_mode": {
    "name": "ipython",
    "version": 3
   },
   "file_extension": ".py",
   "mimetype": "text/x-python",
   "name": "python",
   "nbconvert_exporter": "python",
   "pygments_lexer": "ipython3",
   "version": "3.7.4"
  }
 },
 "nbformat": 4,
 "nbformat_minor": 2
}
